{
 "metadata": {
  "name": "",
  "signature": "sha256:44496a7180bdd79680fd808a9f09c2673a1d55c9192cb6f9fface0d22a751ee5"
 },
 "nbformat": 3,
 "nbformat_minor": 0,
 "worksheets": [
  {
   "cells": [
    {
     "cell_type": "code",
     "collapsed": false,
     "input": [
      "import algoliasearch\n",
      "import postgresql as pq\n",
      "import pandas as pd\n",
      "import sys\n",
      "sys.prefix\n",
      "import pygrametl\n",
      "import re\n",
      "from pprint import pprint"
     ],
     "language": "python",
     "metadata": {},
     "outputs": [],
     "prompt_number": 72
    },
    {
     "cell_type": "code",
     "collapsed": false,
     "input": [
      "def xls_to_df(targetfile):\n",
      "    with open(targetfile, 'r') as infile:\n",
      "        excel = pd.read_csv(infile, index_col=0, header=0)\n",
      "        l = []\n",
      "        for x in excel.columns:\n",
      "            p = re.sub('/','or', re.sub(' ', '_',x))\n",
      "            l.append(p)\n",
      "        excel.columns = l\n",
      "        return excel\n",
      "ihrdf = xls_to_df(\"Data/csv/IHR-demogdata-092914.csv\")    \n",
      "#namhr = xls_to_df(\"Data/all-2014-09-30 15-17-49.386491-data.csv\")"
     ],
     "language": "python",
     "metadata": {},
     "outputs": [],
     "prompt_number": 74
    },
    {
     "cell_type": "code",
     "collapsed": false,
     "input": [],
     "language": "python",
     "metadata": {},
     "outputs": [],
     "prompt_number": 73
    },
    {
     "cell_type": "code",
     "collapsed": false,
     "input": [
      "    \"\"\"         \n",
      "    def get_elements(     \n",
      "            \n",
      "                for x in list(self.data.columns):\n",
      "            self.x = Element(x, self.regname)\n",
      "            self.attributes.append(self.x.sourcename)\n",
      "            self.x.sourcename = self.x.sourcename\n",
      "        def __repr__(self):\n",
      "            return \"<Attribute {'sourcename': %s, }>\" % (self.sourcename)\n",
      "\n",
      " for x in self.valueset:\n",
      "            exec(\"self.%s = Valueset(self.'%s', list(self.data.drop_duplicates().values), self.data, self.origin)\" % (x,x))\n",
      "        \n",
      "    \"\"\""
     ],
     "language": "python",
     "metadata": {},
     "outputs": [
      {
       "metadata": {},
       "output_type": "pyout",
       "prompt_number": 105,
       "text": [
        "'         \\ndef get_elements(     \\n        \\n            for x in list(self.data.columns):\\n        self.x = Element(x, self.regname)\\n        self.attributes.append(self.x.sourcename)\\n        self.x.sourcename = self.x.sourcename\\n    def __repr__(self):\\n        return \"<Attribute {\\'sourcename\\': %s, }>\" % (self.sourcename)\\n\\n for x in self.valueset:\\n        exec(\"self.%s = Valueset(self.\\'%s\\', list(self.data.drop_duplicates().values), self.data, self.origin)\" % (x,x))\\n    \\n'"
       ]
      }
     ],
     "prompt_number": 105
    },
    {
     "cell_type": "code",
     "collapsed": false,
     "input": [
      "\n",
      "class Registry:\n",
      "    reglist = []\n",
      "    def __init__(self, regname, data, **kwargs):\n",
      "        self.regname = regname\n",
      "        self.data = pd.DataFrame(data)\n",
      "        self.elements = []\n",
      "        for x in list(self.data.columns):\n",
      "            self.elements.append(x)\n",
      "            print(x)\n",
      "            valueset = list(self.data[x].drop_duplicates().values)\n",
      "            exec(\"self.%s = Element('%s', valueset, self.data['%s'], self.regname)\" % (x,x,x))\n",
      "        self.datadict = {}\n",
      "        for x in self.elements:\n",
      "            self.datadict[x] = list(self.data[x].drop_duplicates().values)\n",
      "        Registry.reglist.append(self.regname)\n",
      "    def __repr__(self):\n",
      "        return \"< Registry '%s' >\" % self.regname\n",
      "    mapfunct = lambda x: mapdict[df.ix[x]['Gender']]\n",
      "           \n",
      "    \n",
      "class Element:\n",
      "    def __init__(self, elementname, valueset, data, origin, target_table=\"Not yet specified\", target_field = \"Not yet specified\", *args, **kwargs):\n",
      "        self.elementname = elementname\n",
      "        self.data = pd.Series(data)\n",
      "        self.origin = origin\n",
      "        self.valueset = list(valueset)\n",
      "        self.mapdict = {}\n",
      "        for x in self.valueset:\n",
      "            self.mapdict[x] = \"\"\n",
      "        self.target_table = target_table\n",
      "        self.target_field = target_field\n",
      "    def __repr__(self):\n",
      "        if self.origin not in Registry.reglist:\n",
      "            return \"Warning: Origin name %s not an instantiated Registry\" % self.origin\n",
      "        else: return \"<class Element %s, Origin=Registry(%s)>\" % (self.sourcename, self.origin)\n",
      "\n",
      "\n",
      "        \n",
      "\n",
      "ihr = Registry('ihr', ihrdf)"
     ],
     "language": "python",
     "metadata": {},
     "outputs": [
      {
       "output_type": "stream",
       "stream": "stdout",
       "text": [
        "Atitle\n",
        "ASMversion\n",
        "ASMdateDONE\n",
        "REGvitalStatus\n",
        "sex\n",
        "Year_of_Birth\n",
        "State_of_Residence\n",
        "Country_of_Residence\n",
        "StateorProvince_of_Birth_\n",
        "Country_of_Birth\n",
        "race\n",
        "ethnic\n",
        "complete\n",
        "complete_else_relate\n",
        "complete_else_reason\n",
        "education\n",
        "employment\n"
       ]
      }
     ],
     "prompt_number": 144
    },
    {
     "cell_type": "code",
     "collapsed": false,
     "input": [
      "ihr.employment.mapdict"
     ],
     "language": "python",
     "metadata": {},
     "outputs": [
      {
       "metadata": {},
       "output_type": "pyout",
       "prompt_number": 148,
       "text": [
        "{nan: '',\n",
        " '2 Part-Time': '',\n",
        " '1 Full-Time': '',\n",
        " '5 Disabled': '',\n",
        " 'Full-time Student': '',\n",
        " '6 Other': '',\n",
        " '4 Unemployed': '',\n",
        " '3 Retired': ''}"
       ]
      }
     ],
     "prompt_number": 148
    },
    {
     "cell_type": "code",
     "collapsed": false,
     "input": [
      "import datetime\n",
      "class Baya(Element):\n",
      "    def __init__(self, *args, **kwargs):\n",
      "        self.time = datetime.datetime.now()\n",
      "        super().__init__(*args, **kwargs)\n",
      "    def newfunct(self):\n",
      "        print(\"Yakasha\")\n",
      "  "
     ],
     "language": "python",
     "metadata": {},
     "outputs": [],
     "prompt_number": 59
    },
    {
     "cell_type": "code",
     "collapsed": false,
     "input": [
      "ya = Baya('ryan', 'oriasi', 'ihr', 'ihr')\n",
      "ya.boofuckinghoo = [1,2,3]\n",
      "ya.boofuckinghoo"
     ],
     "language": "python",
     "metadata": {},
     "outputs": [
      {
       "metadata": {},
       "output_type": "pyout",
       "prompt_number": 68,
       "text": [
        "[1, 2, 3]"
       ]
      }
     ],
     "prompt_number": 68
    },
    {
     "cell_type": "code",
     "collapsed": false,
     "input": [
      "ihr.education = SubElement(ihr.education.sourcename, ihr.education.valueset, ihr.education.data, ihr.education.origin)"
     ],
     "language": "python",
     "metadata": {},
     "outputs": [
      {
       "ename": "NameError",
       "evalue": "name 'SubElement' is not defined",
       "output_type": "pyerr",
       "traceback": [
        "\u001b[0;31m---------------------------------------------------------------------------\u001b[0m\n\u001b[0;31mNameError\u001b[0m                                 Traceback (most recent call last)",
        "\u001b[0;32m<ipython-input-22-6c203dd48228>\u001b[0m in \u001b[0;36m<module>\u001b[0;34m()\u001b[0m\n\u001b[0;32m----> 1\u001b[0;31m \u001b[0mihr\u001b[0m\u001b[0;34m.\u001b[0m\u001b[0meducation\u001b[0m \u001b[0;34m=\u001b[0m \u001b[0mSubElement\u001b[0m\u001b[0;34m(\u001b[0m\u001b[0mihr\u001b[0m\u001b[0;34m.\u001b[0m\u001b[0meducation\u001b[0m\u001b[0;34m.\u001b[0m\u001b[0msourcename\u001b[0m\u001b[0;34m,\u001b[0m \u001b[0mihr\u001b[0m\u001b[0;34m.\u001b[0m\u001b[0meducation\u001b[0m\u001b[0;34m.\u001b[0m\u001b[0mvalueset\u001b[0m\u001b[0;34m,\u001b[0m \u001b[0mihr\u001b[0m\u001b[0;34m.\u001b[0m\u001b[0meducation\u001b[0m\u001b[0;34m.\u001b[0m\u001b[0mdata\u001b[0m\u001b[0;34m,\u001b[0m \u001b[0mihr\u001b[0m\u001b[0;34m.\u001b[0m\u001b[0meducation\u001b[0m\u001b[0;34m.\u001b[0m\u001b[0morigin\u001b[0m\u001b[0;34m)\u001b[0m\u001b[0;34m\u001b[0m\u001b[0m\n\u001b[0m",
        "\u001b[0;31mNameError\u001b[0m: name 'SubElement' is not defined"
       ]
      }
     ],
     "prompt_number": 22
    },
    {
     "cell_type": "code",
     "collapsed": false,
     "input": [
      "[x*2 for x in ihr.education.valueset.values]\n"
     ],
     "language": "python",
     "metadata": {},
     "outputs": [
      {
       "metadata": {},
       "output_type": "pyout",
       "prompt_number": 13,
       "text": [
        "[nan,\n",
        " 'Trade SchoolTrade School',\n",
        " 'Junior High SchoolJunior High School',\n",
        " 'OtherOther',\n",
        " 'CollegeCollege',\n",
        " 'Some CollegeSome College',\n",
        " 'High SchoolHigh School',\n",
        " 'Graduate SchoolGraduate School',\n",
        " 'Less than High SchoolLess than High School',\n",
        " 'Associates Degree (2 years)Associates Degree (2 years)',\n",
        " 'Elementary SchoolElementary School',\n",
        " 'Trade School/ Some CollegeTrade School/ Some College',\n",
        " 'PreschoolPreschool',\n",
        " 'Technicial SchoolTechnicial School',\n",
        " 'Vocational SchoolVocational School',\n",
        " 'Trade/Technical/Vocational SchoTrade/Technical/Vocational Scho']"
       ]
      }
     ],
     "prompt_number": 13
    },
    {
     "cell_type": "raw",
     "metadata": {},
     "source": [
      "boo = ['ryan', 'apple', 'tree']\n",
      "\n",
      "for x in boo:\n",
      "    print(x)\n",
      "    exec(\"assign_%s = '%s'\" % (x, x))\n",
      "assign_ryan"
     ]
    },
    {
     "cell_type": "code",
     "collapsed": false,
     "input": [
      "ihr.elements"
     ],
     "language": "python",
     "metadata": {},
     "outputs": [
      {
       "metadata": {},
       "output_type": "pyout",
       "prompt_number": 278,
       "text": [
        "['Atitle',\n",
        " 'ASMversion',\n",
        " 'ASMdateDONE',\n",
        " 'REGvitalStatus',\n",
        " 'sex',\n",
        " 'Year_of_Birth',\n",
        " 'State_of_Residence',\n",
        " 'Country_of_Residence',\n",
        " 'State-Province_of_Birth_',\n",
        " 'Country_of_Birth',\n",
        " 'race',\n",
        " 'ethnic',\n",
        " 'complete',\n",
        " 'complete_else_relate',\n",
        " 'complete_else_reason',\n",
        " 'education',\n",
        " 'employment']"
       ]
      }
     ],
     "prompt_number": 278
    },
    {
     "cell_type": "code",
     "collapsed": false,
     "input": [
      "class SuperFrame(pd.DataFrame):\n",
      "    def __init__(self, *args, **kwargs):\n",
      "        super().__init__(*args, **kwargs)\n",
      "    @property\n",
      "    def ooga(self):\n",
      "        return 24\n",
      "    def newshit(self):\n",
      "        print('No FUCKING WAY')"
     ],
     "language": "python",
     "metadata": {},
     "outputs": [],
     "prompt_number": 362
    },
    {
     "cell_type": "code",
     "collapsed": false,
     "input": [
      "wha = SuperFrame(ihrdf)"
     ],
     "language": "python",
     "metadata": {},
     "outputs": [],
     "prompt_number": 363
    },
    {
     "cell_type": "code",
     "collapsed": false,
     "input": [
      "wha.ooga"
     ],
     "language": "python",
     "metadata": {},
     "outputs": [
      {
       "metadata": {},
       "output_type": "pyout",
       "prompt_number": 366,
       "text": [
        "24"
       ]
      }
     ],
     "prompt_number": 366
    },
    {
     "cell_type": "code",
     "collapsed": false,
     "input": [
      "def square(x):\n",
      "    return x**2\n",
      "\n",
      "squares = map(square, range(10))"
     ],
     "language": "python",
     "metadata": {},
     "outputs": [],
     "prompt_number": 84
    },
    {
     "cell_type": "code",
     "collapsed": false,
     "input": [
      "exec(squares)"
     ],
     "language": "python",
     "metadata": {},
     "outputs": [
      {
       "ename": "TypeError",
       "evalue": "exec() arg 1 must be a string, bytes or code object",
       "output_type": "pyerr",
       "traceback": [
        "\u001b[0;31m---------------------------------------------------------------------------\u001b[0m\n\u001b[0;31mTypeError\u001b[0m                                 Traceback (most recent call last)",
        "\u001b[0;32m<ipython-input-87-034b48888b29>\u001b[0m in \u001b[0;36m<module>\u001b[0;34m()\u001b[0m\n\u001b[0;32m----> 1\u001b[0;31m \u001b[0mexec\u001b[0m\u001b[0;34m(\u001b[0m\u001b[0msquares\u001b[0m\u001b[0;34m)\u001b[0m\u001b[0;34m\u001b[0m\u001b[0m\n\u001b[0m",
        "\u001b[0;31mTypeError\u001b[0m: exec() arg 1 must be a string, bytes or code object"
       ]
      }
     ],
     "prompt_number": 87
    },
    {
     "cell_type": "code",
     "collapsed": false,
     "input": [
      "wha = SuperFrame(ihrdf)"
     ],
     "language": "python",
     "metadata": {},
     "outputs": [],
     "prompt_number": 215
    },
    {
     "cell_type": "code",
     "collapsed": false,
     "input": [
      "wha."
     ],
     "language": "python",
     "metadata": {},
     "outputs": [],
     "prompt_number": 223
    },
    {
     "cell_type": "code",
     "collapsed": false,
     "input": [
      "import pandas as pd\n",
      "import numpy as np\n",
      "\n",
      "class MyDF(pd.DataFrame):\n",
      "    _attributes_ = \"myattr1,myattr2\"\n",
      "\n",
      "    def __init__(self, *args, **kw):\n",
      "        super(MyDF, self).__init__(*args, **kw)\n",
      "        if len(args) == 1 and isinstance(args[0], MyDF):\n",
      "            args[0]._copy_attrs(self)\n",
      "\n",
      "    def _copy_attrs(self, df):\n",
      "        for attr in self._attributes_.split(\",\"):\n",
      "            df.__dict__[attr] = getattr(self, attr, None)\n",
      "\n",
      "    @property\n",
      "    def _constructor(self):\n",
      "        def f(*args, **kw):\n",
      "            df = MyDF(*args, **kw)\n",
      "            self._copy_attrs(df)\n",
      "            return df\n",
      "        return f\n",
      "\n",
      "mydf = MyDF(np.random.randn(3,4), columns=['A','B','C','D'])\n",
      "print(type(mydf))\n",
      "\n",
      "mydf_sub = mydf[['A','C']]\n",
      "print(type(mydf_sub))\n",
      "\n",
      "mydf.myattr1 = 1\n",
      "mydf_cp1 = MyDF(mydf)\n",
      "mydf_cp2 = mydf.copy()\n",
      "print(mydf_cp1.myattr1, mydf_cp2.myattr1)"
     ],
     "language": "python",
     "metadata": {},
     "outputs": [
      {
       "output_type": "stream",
       "stream": "stdout",
       "text": [
        "<class '__main__.MyDF'>\n",
        "<class '__main__.MyDF'>\n",
        "1 1\n"
       ]
      }
     ],
     "prompt_number": 203
    },
    {
     "cell_type": "code",
     "collapsed": false,
     "input": [
      "mydf"
     ],
     "language": "python",
     "metadata": {},
     "outputs": [
      {
       "html": [
        "<div style=\"max-height:1000px;max-width:1500px;overflow:auto;\">\n",
        "<table border=\"1\" class=\"dataframe\">\n",
        "  <thead>\n",
        "    <tr style=\"text-align: right;\">\n",
        "      <th></th>\n",
        "      <th>A</th>\n",
        "      <th>B</th>\n",
        "      <th>C</th>\n",
        "      <th>D</th>\n",
        "    </tr>\n",
        "  </thead>\n",
        "  <tbody>\n",
        "    <tr>\n",
        "      <th>0</th>\n",
        "      <td> 1.649088</td>\n",
        "      <td>-1.405952</td>\n",
        "      <td> 0.636348</td>\n",
        "      <td>-0.225416</td>\n",
        "    </tr>\n",
        "    <tr>\n",
        "      <th>1</th>\n",
        "      <td> 1.017666</td>\n",
        "      <td> 1.697215</td>\n",
        "      <td> 0.443570</td>\n",
        "      <td> 0.448637</td>\n",
        "    </tr>\n",
        "    <tr>\n",
        "      <th>2</th>\n",
        "      <td> 0.919531</td>\n",
        "      <td> 1.132978</td>\n",
        "      <td>-1.884346</td>\n",
        "      <td> 0.791090</td>\n",
        "    </tr>\n",
        "  </tbody>\n",
        "</table>\n",
        "</div>"
       ],
       "metadata": {},
       "output_type": "pyout",
       "prompt_number": 204,
       "text": [
        "          A         B         C         D\n",
        "0  1.649088 -1.405952  0.636348 -0.225416\n",
        "1  1.017666  1.697215  0.443570  0.448637\n",
        "2  0.919531  1.132978 -1.884346  0.791090"
       ]
      }
     ],
     "prompt_number": 204
    },
    {
     "cell_type": "heading",
     "level": 3,
     "metadata": {},
     "source": []
    },
    {
     "cell_type": "code",
     "collapsed": false,
     "input": [
      "dicky = {'red':1, 'blue': 2}\n",
      "ryan = {'ryan': 'vass', 'bluish': 5}\n",
      "dicky.update(ryan)"
     ],
     "language": "python",
     "metadata": {},
     "outputs": []
    },
    {
     "cell_type": "code",
     "collapsed": false,
     "input": [
      "nums = [1,2,3]"
     ],
     "language": "python",
     "metadata": {},
     "outputs": [],
     "prompt_number": 62
    },
    {
     "cell_type": "code",
     "collapsed": false,
     "input": [
      "lambda x: for num in x: x**2"
     ],
     "language": "python",
     "metadata": {},
     "outputs": [
      {
       "ename": "SyntaxError",
       "evalue": "invalid syntax (<ipython-input-65-5b78210a89d0>, line 1)",
       "output_type": "pyerr",
       "traceback": [
        "\u001b[0;36m  File \u001b[0;32m\"<ipython-input-65-5b78210a89d0>\"\u001b[0;36m, line \u001b[0;32m1\u001b[0m\n\u001b[0;31m    lambda x: for num in x: x**2\u001b[0m\n\u001b[0m                ^\u001b[0m\n\u001b[0;31mSyntaxError\u001b[0m\u001b[0;31m:\u001b[0m invalid syntax\n"
       ]
      }
     ],
     "prompt_number": 65
    },
    {
     "cell_type": "code",
     "collapsed": false,
     "input": [
      "lest = Attribute('sex', {'Male': 8507, 'Female': 8532}, 12)"
     ],
     "language": "python",
     "metadata": {},
     "outputs": [
      {
       "ename": "TypeError",
       "evalue": "__init__() takes 3 positional arguments but 4 were given",
       "output_type": "pyerr",
       "traceback": [
        "\u001b[0;31m---------------------------------------------------------------------------\u001b[0m\n\u001b[0;31mTypeError\u001b[0m                                 Traceback (most recent call last)",
        "\u001b[0;32m<ipython-input-204-f95ffe542030>\u001b[0m in \u001b[0;36m<module>\u001b[0;34m()\u001b[0m\n\u001b[0;32m----> 1\u001b[0;31m \u001b[0mlest\u001b[0m \u001b[0;34m=\u001b[0m \u001b[0mAttribute\u001b[0m\u001b[0;34m(\u001b[0m\u001b[0;34m'sex'\u001b[0m\u001b[0;34m,\u001b[0m \u001b[0;34m{\u001b[0m\u001b[0;34m'Male'\u001b[0m\u001b[0;34m:\u001b[0m \u001b[0;36m8507\u001b[0m\u001b[0;34m,\u001b[0m \u001b[0;34m'Female'\u001b[0m\u001b[0;34m:\u001b[0m \u001b[0;36m8532\u001b[0m\u001b[0;34m}\u001b[0m\u001b[0;34m,\u001b[0m \u001b[0;36m12\u001b[0m\u001b[0;34m)\u001b[0m\u001b[0;34m\u001b[0m\u001b[0m\n\u001b[0m",
        "\u001b[0;31mTypeError\u001b[0m: __init__() takes 3 positional arguments but 4 were given"
       ]
      }
     ],
     "prompt_number": 204
    },
    {
     "cell_type": "code",
     "collapsed": false,
     "input": [
      "Mapping Review Oct 14 9-10:30am\n",
      "Mapping Review Oct 20 9-10:30am\n",
      "Mapping Review Oct 24 10-12pm, 1-2:30pm\n",
      "Mapping Review Oct 27 1-3:30pm"
     ],
     "language": "python",
     "metadata": {},
     "outputs": [],
     "prompt_number": 10
    },
    {
     "cell_type": "code",
     "collapsed": false,
     "input": [],
     "language": "python",
     "metadata": {},
     "outputs": []
    },
    {
     "cell_type": "code",
     "collapsed": false,
     "input": [
      "list(ihrdf.drop_duplicates('sex')['sex'].values)"
     ],
     "language": "python",
     "metadata": {},
     "outputs": [
      {
       "metadata": {},
       "output_type": "pyout",
       "prompt_number": 123,
       "text": [
        "['Female', 'Male']"
       ]
      }
     ],
     "prompt_number": 123
    },
    {
     "cell_type": "code",
     "collapsed": false,
     "input": [
      "class Registry:\n",
      "    def __init__(self, name):\n",
      "        self.name = name"
     ],
     "language": "python",
     "metadata": {},
     "outputs": [],
     "prompt_number": 126
    },
    {
     "cell_type": "code",
     "collapsed": false,
     "input": [
      "class Registry:\n",
      "    def __init__(self, name):\n",
      "        self.name = name\n",
      "        "
     ],
     "language": "python",
     "metadata": {},
     "outputs": [],
     "prompt_number": 160
    },
    {
     "cell_type": "code",
     "collapsed": false,
     "input": [
      "Registry('Ryan', ihrdf)"
     ],
     "language": "python",
     "metadata": {},
     "outputs": [
      {
       "metadata": {},
       "output_type": "pyout",
       "prompt_number": 161,
       "text": [
        "<repr(<__main__.Registry at 0x112af7b38>) failed: TypeError: __repr__() missing 1 required positional argument: 'data'>"
       ]
      }
     ],
     "prompt_number": 161
    },
    {
     "cell_type": "heading",
     "level": 4,
     "metadata": {},
     "source": []
    },
    {
     "cell_type": "code",
     "collapsed": false,
     "input": [],
     "language": "python",
     "metadata": {},
     "outputs": []
    },
    {
     "cell_type": "code",
     "collapsed": false,
     "input": [],
     "language": "python",
     "metadata": {},
     "outputs": []
    },
    {
     "cell_type": "code",
     "collapsed": false,
     "input": [],
     "language": "python",
     "metadata": {},
     "outputs": []
    },
    {
     "cell_type": "code",
     "collapsed": false,
     "input": [
      "import pandas as pd\n",
      "import postgresql\n",
      "io = (open(\"I.csv\", \"r\"))\n",
      "excel = pd.ExcelFile(\"IPCRR.GRDR.FULLdata.2014-09-04.xlsx\")\n",
      "df = excel.parse(headers=1, skiprows=1)\n",
      "#db = postgresql.open(\"pq://vassr@localhost:5432/vassr\")\n",
      "lite.connect('openclone.db')\n",
      "db.connect()\n",
      "boo = db.prepare(\"select * from person\")\n",
      "omop = pd.DataFrame(boo(),columns=boo.column_names)\n",
      "\n",
      "\n",
      "mapdict = {'M': 8507, 'F': 8532}\n",
      "mapfunct = lambda x: mapdict[df.ix[x]['Gender']]\n",
      "etl = db.prepare(\"insert into person(person_id, gender_concept_id) values(4, \" + str(mapfunct(10)) + \")\")\n",
      "etl()\n",
      "mapfunct(10)"
     ],
     "language": "python",
     "metadata": {},
     "outputs": [
      {
       "ename": "FileNotFoundError",
       "evalue": "[Errno 2] No such file or directory: 'pachydata2.csv'",
       "output_type": "pyerr",
       "traceback": [
        "\u001b[0;31m---------------------------------------------------------------------------\u001b[0m\n\u001b[0;31mFileNotFoundError\u001b[0m                         Traceback (most recent call last)",
        "\u001b[0;32m<ipython-input-7-849e3be03e3e>\u001b[0m in \u001b[0;36m<module>\u001b[0;34m()\u001b[0m\n\u001b[1;32m      1\u001b[0m \u001b[0;32mimport\u001b[0m \u001b[0mpandas\u001b[0m \u001b[0;32mas\u001b[0m \u001b[0mpd\u001b[0m\u001b[0;34m\u001b[0m\u001b[0m\n\u001b[1;32m      2\u001b[0m \u001b[0;32mimport\u001b[0m \u001b[0mpostgresql\u001b[0m\u001b[0;34m\u001b[0m\u001b[0m\n\u001b[0;32m----> 3\u001b[0;31m \u001b[0mio\u001b[0m \u001b[0;34m=\u001b[0m \u001b[0;34m(\u001b[0m\u001b[0mopen\u001b[0m\u001b[0;34m(\u001b[0m\u001b[0;34m\"pachydata2.csv\"\u001b[0m\u001b[0;34m,\u001b[0m \u001b[0;34m\"r\"\u001b[0m\u001b[0;34m)\u001b[0m\u001b[0;34m)\u001b[0m\u001b[0;34m\u001b[0m\u001b[0m\n\u001b[0m\u001b[1;32m      4\u001b[0m \u001b[0mexcel\u001b[0m \u001b[0;34m=\u001b[0m \u001b[0mpd\u001b[0m\u001b[0;34m.\u001b[0m\u001b[0mExcelFile\u001b[0m\u001b[0;34m(\u001b[0m\u001b[0;34m\"IPCRR.GRDR.FULLdata.2014-09-04.xlsx\"\u001b[0m\u001b[0;34m)\u001b[0m\u001b[0;34m\u001b[0m\u001b[0m\n\u001b[1;32m      5\u001b[0m \u001b[0mdf\u001b[0m \u001b[0;34m=\u001b[0m \u001b[0mexcel\u001b[0m\u001b[0;34m.\u001b[0m\u001b[0mparse\u001b[0m\u001b[0;34m(\u001b[0m\u001b[0mheaders\u001b[0m\u001b[0;34m=\u001b[0m\u001b[0;36m1\u001b[0m\u001b[0;34m,\u001b[0m \u001b[0mskiprows\u001b[0m\u001b[0;34m=\u001b[0m\u001b[0;36m1\u001b[0m\u001b[0;34m)\u001b[0m\u001b[0;34m\u001b[0m\u001b[0m\n",
        "\u001b[0;31mFileNotFoundError\u001b[0m: [Errno 2] No such file or directory: 'pachydata2.csv'"
       ]
      }
     ],
     "prompt_number": 7
    },
    {
     "cell_type": "code",
     "collapsed": false,
     "input": [],
     "language": "python",
     "metadata": {},
     "outputs": []
    }
   ],
   "metadata": {}
  }
 ]
}