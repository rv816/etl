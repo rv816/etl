{
 "metadata": {
  "name": "",
  "signature": "sha256:7725297a7fa313083d95c56c801f51fd1d7427172f00fe722f156150cdec5dc0"
 },
 "nbformat": 3,
 "nbformat_minor": 0,
 "worksheets": [
  {
   "cells": [
    {
     "cell_type": "code",
     "collapsed": false,
     "input": [
      "import algoliasearch\n",
      "import postgresql as pq\n",
      "import pandas as pd\n",
      "import sys\n",
      "sys.prefix\n",
      "import pygrametl\n",
      "import re"
     ],
     "language": "python",
     "metadata": {},
     "outputs": [],
     "prompt_number": 30
    },
    {
     "cell_type": "code",
     "collapsed": false,
     "input": [
      "def xls_to_df(targetfile):\n",
      "    with open(targetfile, 'r') as infile:\n",
      "        excel = pd.read_csv(infile, index_col=0, header=0)\n",
      "        l = []\n",
      "        for x in excel.columns:\n",
      "            p = re.sub('/','-', re.sub(' ', '_',x))\n",
      "            l.append(p)\n",
      "        excel.columns = l\n",
      "        return excel\n",
      "ihrdf = xls_to_df(\"IHR-demogdata-092914.csv\")    \n"
     ],
     "language": "python",
     "metadata": {},
     "outputs": [],
     "prompt_number": 53
    },
    {
     "cell_type": "code",
     "collapsed": false,
     "input": [
      "foo = open('/Users/vassr/Documents/ryan_code_folder/ryancode.py', 'w')\n",
      "\n",
      "foo.write(\"\"\"\n",
      "        \"\"\")\n",
      "\n",
      "foo.close()"
     ],
     "language": "python",
     "metadata": {},
     "outputs": [],
     "prompt_number": 124
    },
    {
     "cell_type": "code",
     "collapsed": false,
     "input": [
      "for x in list(self.data.columns):\n",
      "            self.x = kwargs.pop(Attribute(x, self.regname))\n",
      "            self.attributes.append(self.x.sourcename)"
     ],
     "language": "python",
     "metadata": {},
     "outputs": [],
     "prompt_number": 345
    },
    {
     "cell_type": "code",
     "collapsed": false,
     "input": [
      "class Registry:\n",
      "    def __init__(self, regname, data, **kwargs):\n",
      "        self.regname = regname\n",
      "        self.data = pd.DataFrame(data)\n",
      "        self.attributes = []\n",
      "        for x in list(self.data.columns):\n",
      "            self.x = Attribute(x, self.regname)\n",
      "            self.attributes.append(self.x.sourcename)\n",
      "    class Attribute(Registry):\n",
      "        def __init__(self, sourcename, origin): \n",
      "            self.sourcename = sourcename\n",
      "            self.origin = origin     \n",
      "        \n",
      "    def __repr__(self):\n",
      "            return \"<Attribute {'sourcename': %s, 'origin': %s}>\" % (self.sourcename, self.origin)\n",
      "Registry('IHR', ihrdf)"
     ],
     "language": "python",
     "metadata": {},
     "outputs": [
      {
       "ename": "SyntaxError",
       "evalue": "invalid syntax (<ipython-input-366-6afabfa378c1>, line 14)",
       "output_type": "pyerr",
       "traceback": [
        "\u001b[0;36m  File \u001b[0;32m\"<ipython-input-366-6afabfa378c1>\"\u001b[0;36m, line \u001b[0;32m14\u001b[0m\n\u001b[0;31m    def __getattr__(self, )\u001b[0m\n\u001b[0m                           ^\u001b[0m\n\u001b[0;31mSyntaxError\u001b[0m\u001b[0;31m:\u001b[0m invalid syntax\n"
       ]
      }
     ],
     "prompt_number": 366
    },
    {
     "cell_type": "code",
     "collapsed": false,
     "input": [
      "ihr.attributes"
     ],
     "language": "python",
     "metadata": {},
     "outputs": [
      {
       "metadata": {},
       "output_type": "pyout",
       "prompt_number": 365,
       "text": [
        "['Atitle',\n",
        " 'ASMversion',\n",
        " 'ASMdateDONE',\n",
        " 'REGvitalStatus',\n",
        " 'sex',\n",
        " 'Year_of_Birth',\n",
        " 'State_of_Residence',\n",
        " 'Country_of_Residence',\n",
        " 'State-Province_of_Birth_',\n",
        " 'Country_of_Birth',\n",
        " 'race',\n",
        " 'ethnic',\n",
        " 'complete',\n",
        " 'complete_else_relate',\n",
        " 'complete_else_reason']"
       ]
      }
     ],
     "prompt_number": 365
    },
    {
     "cell_type": "code",
     "collapsed": false,
     "input": [
      "ihr.attributes[4]"
     ],
     "language": "python",
     "metadata": {},
     "outputs": [
      {
       "metadata": {},
       "output_type": "pyout",
       "prompt_number": 343,
       "text": [
        "'sex'"
       ]
      }
     ],
     "prompt_number": 343
    },
    {
     "cell_type": "code",
     "collapsed": false,
     "input": [
      "dicky.red"
     ],
     "language": "python",
     "metadata": {},
     "outputs": [
      {
       "ename": "AttributeError",
       "evalue": "'dict' object has no attribute 'red'",
       "output_type": "pyerr",
       "traceback": [
        "\u001b[0;31m---------------------------------------------------------------------------\u001b[0m\n\u001b[0;31mAttributeError\u001b[0m                            Traceback (most recent call last)",
        "\u001b[0;32m<ipython-input-335-bcf77e70d116>\u001b[0m in \u001b[0;36m<module>\u001b[0;34m()\u001b[0m\n\u001b[0;32m----> 1\u001b[0;31m \u001b[0mdicky\u001b[0m\u001b[0;34m.\u001b[0m\u001b[0mred\u001b[0m\u001b[0;34m\u001b[0m\u001b[0m\n\u001b[0m",
        "\u001b[0;31mAttributeError\u001b[0m: 'dict' object has no attribute 'red'"
       ]
      }
     ],
     "prompt_number": 335
    },
    {
     "cell_type": "code",
     "collapsed": false,
     "input": [
      "dicky"
     ],
     "language": "python",
     "metadata": {},
     "outputs": [
      {
       "metadata": {},
       "output_type": "pyout",
       "prompt_number": 297,
       "text": [
        "{'red': 1, 'ryan': 'vass', 'blue': 2, 'bluish': 5}"
       ]
      }
     ],
     "prompt_number": 297
    },
    {
     "cell_type": "code",
     "collapsed": false,
     "input": [],
     "language": "python",
     "metadata": {},
     "outputs": []
    },
    {
     "cell_type": "code",
     "collapsed": false,
     "input": [
      "dicky = {'red':1, 'blue': 2}\n",
      "ryan = {'ryan': 'vass', 'bluish': 5}\n",
      "dicky.update(ryan)"
     ],
     "language": "python",
     "metadata": {},
     "outputs": []
    },
    {
     "cell_type": "code",
     "collapsed": false,
     "input": [],
     "language": "python",
     "metadata": {},
     "outputs": []
    },
    {
     "cell_type": "code",
     "collapsed": false,
     "input": [],
     "language": "python",
     "metadata": {},
     "outputs": []
    },
    {
     "cell_type": "code",
     "collapsed": false,
     "input": [
      "lest = Attribute('sex', {'Male': 8507, 'Female': 8532}, 12)"
     ],
     "language": "python",
     "metadata": {},
     "outputs": [
      {
       "ename": "TypeError",
       "evalue": "__init__() takes 3 positional arguments but 4 were given",
       "output_type": "pyerr",
       "traceback": [
        "\u001b[0;31m---------------------------------------------------------------------------\u001b[0m\n\u001b[0;31mTypeError\u001b[0m                                 Traceback (most recent call last)",
        "\u001b[0;32m<ipython-input-204-f95ffe542030>\u001b[0m in \u001b[0;36m<module>\u001b[0;34m()\u001b[0m\n\u001b[0;32m----> 1\u001b[0;31m \u001b[0mlest\u001b[0m \u001b[0;34m=\u001b[0m \u001b[0mAttribute\u001b[0m\u001b[0;34m(\u001b[0m\u001b[0;34m'sex'\u001b[0m\u001b[0;34m,\u001b[0m \u001b[0;34m{\u001b[0m\u001b[0;34m'Male'\u001b[0m\u001b[0;34m:\u001b[0m \u001b[0;36m8507\u001b[0m\u001b[0;34m,\u001b[0m \u001b[0;34m'Female'\u001b[0m\u001b[0;34m:\u001b[0m \u001b[0;36m8532\u001b[0m\u001b[0;34m}\u001b[0m\u001b[0;34m,\u001b[0m \u001b[0;36m12\u001b[0m\u001b[0;34m)\u001b[0m\u001b[0;34m\u001b[0m\u001b[0m\n\u001b[0m",
        "\u001b[0;31mTypeError\u001b[0m: __init__() takes 3 positional arguments but 4 were given"
       ]
      }
     ],
     "prompt_number": 204
    },
    {
     "cell_type": "code",
     "collapsed": false,
     "input": [],
     "language": "python",
     "metadata": {},
     "outputs": [],
     "prompt_number": 204
    },
    {
     "cell_type": "code",
     "collapsed": false,
     "input": [],
     "language": "python",
     "metadata": {},
     "outputs": []
    },
    {
     "cell_type": "code",
     "collapsed": false,
     "input": [
      "list(ihrdf.drop_duplicates('sex')['sex'].values)"
     ],
     "language": "python",
     "metadata": {},
     "outputs": [
      {
       "metadata": {},
       "output_type": "pyout",
       "prompt_number": 123,
       "text": [
        "['Female', 'Male']"
       ]
      }
     ],
     "prompt_number": 123
    },
    {
     "cell_type": "code",
     "collapsed": false,
     "input": [
      "class Registry:\n",
      "    def __init__(self, name):\n",
      "        self.name = name"
     ],
     "language": "python",
     "metadata": {},
     "outputs": [],
     "prompt_number": 126
    },
    {
     "cell_type": "code",
     "collapsed": false,
     "input": [
      "class Registry:\n",
      "    def __init__(self, name):\n",
      "        self.name = name\n",
      "        "
     ],
     "language": "python",
     "metadata": {},
     "outputs": [],
     "prompt_number": 160
    },
    {
     "cell_type": "code",
     "collapsed": false,
     "input": [
      "Registry('Ryan', ihrdf)"
     ],
     "language": "python",
     "metadata": {},
     "outputs": [
      {
       "metadata": {},
       "output_type": "pyout",
       "prompt_number": 161,
       "text": [
        "<repr(<__main__.Registry at 0x112af7b38>) failed: TypeError: __repr__() missing 1 required positional argument: 'data'>"
       ]
      }
     ],
     "prompt_number": 161
    },
    {
     "cell_type": "heading",
     "level": 4,
     "metadata": {},
     "source": []
    },
    {
     "cell_type": "code",
     "collapsed": false,
     "input": [],
     "language": "python",
     "metadata": {},
     "outputs": []
    },
    {
     "cell_type": "code",
     "collapsed": false,
     "input": [],
     "language": "python",
     "metadata": {},
     "outputs": []
    },
    {
     "cell_type": "code",
     "collapsed": false,
     "input": [],
     "language": "python",
     "metadata": {},
     "outputs": []
    },
    {
     "cell_type": "code",
     "collapsed": false,
     "input": [
      "import pandas as pd\n",
      "import postgresql\n",
      "io = (open(\"I.csv\", \"r\"))\n",
      "excel = pd.ExcelFile(\"IPCRR.GRDR.FULLdata.2014-09-04.xlsx\")\n",
      "df = excel.parse(headers=1, skiprows=1)\n",
      "#db = postgresql.open(\"pq://vassr@localhost:5432/vassr\")\n",
      "lite.connect('openclone.db')\n",
      "db.connect()\n",
      "boo = db.prepare(\"select * from person\")\n",
      "omop = pd.DataFrame(boo(),columns=boo.column_names)\n",
      "\n",
      "\n",
      "mapdict = {'M': 8507, 'F': 8532}\n",
      "mapfunct = lambda x: mapdict[df.ix[x]['Gender']]\n",
      "etl = db.prepare(\"insert into person(person_id, gender_concept_id) values(4, \" + str(mapfunct(10)) + \")\")\n",
      "etl()\n",
      "mapfunct(10)"
     ],
     "language": "python",
     "metadata": {},
     "outputs": [
      {
       "ename": "FileNotFoundError",
       "evalue": "[Errno 2] No such file or directory: 'pachydata2.csv'",
       "output_type": "pyerr",
       "traceback": [
        "\u001b[0;31m---------------------------------------------------------------------------\u001b[0m\n\u001b[0;31mFileNotFoundError\u001b[0m                         Traceback (most recent call last)",
        "\u001b[0;32m<ipython-input-7-849e3be03e3e>\u001b[0m in \u001b[0;36m<module>\u001b[0;34m()\u001b[0m\n\u001b[1;32m      1\u001b[0m \u001b[0;32mimport\u001b[0m \u001b[0mpandas\u001b[0m \u001b[0;32mas\u001b[0m \u001b[0mpd\u001b[0m\u001b[0;34m\u001b[0m\u001b[0m\n\u001b[1;32m      2\u001b[0m \u001b[0;32mimport\u001b[0m \u001b[0mpostgresql\u001b[0m\u001b[0;34m\u001b[0m\u001b[0m\n\u001b[0;32m----> 3\u001b[0;31m \u001b[0mio\u001b[0m \u001b[0;34m=\u001b[0m \u001b[0;34m(\u001b[0m\u001b[0mopen\u001b[0m\u001b[0;34m(\u001b[0m\u001b[0;34m\"pachydata2.csv\"\u001b[0m\u001b[0;34m,\u001b[0m \u001b[0;34m\"r\"\u001b[0m\u001b[0;34m)\u001b[0m\u001b[0;34m)\u001b[0m\u001b[0;34m\u001b[0m\u001b[0m\n\u001b[0m\u001b[1;32m      4\u001b[0m \u001b[0mexcel\u001b[0m \u001b[0;34m=\u001b[0m \u001b[0mpd\u001b[0m\u001b[0;34m.\u001b[0m\u001b[0mExcelFile\u001b[0m\u001b[0;34m(\u001b[0m\u001b[0;34m\"IPCRR.GRDR.FULLdata.2014-09-04.xlsx\"\u001b[0m\u001b[0;34m)\u001b[0m\u001b[0;34m\u001b[0m\u001b[0m\n\u001b[1;32m      5\u001b[0m \u001b[0mdf\u001b[0m \u001b[0;34m=\u001b[0m \u001b[0mexcel\u001b[0m\u001b[0;34m.\u001b[0m\u001b[0mparse\u001b[0m\u001b[0;34m(\u001b[0m\u001b[0mheaders\u001b[0m\u001b[0;34m=\u001b[0m\u001b[0;36m1\u001b[0m\u001b[0;34m,\u001b[0m \u001b[0mskiprows\u001b[0m\u001b[0;34m=\u001b[0m\u001b[0;36m1\u001b[0m\u001b[0;34m)\u001b[0m\u001b[0;34m\u001b[0m\u001b[0m\n",
        "\u001b[0;31mFileNotFoundError\u001b[0m: [Errno 2] No such file or directory: 'pachydata2.csv'"
       ]
      }
     ],
     "prompt_number": 7
    },
    {
     "cell_type": "code",
     "collapsed": false,
     "input": [],
     "language": "python",
     "metadata": {},
     "outputs": []
    }
   ],
   "metadata": {}
  }
 ]
}